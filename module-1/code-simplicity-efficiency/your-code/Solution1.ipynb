{
 "cells": [
  {
   "cell_type": "code",
   "execution_count": 1,
   "id": "ea19530f",
   "metadata": {},
   "outputs": [
    {
     "name": "stdout",
     "output_type": "stream",
     "text": [
      "Please choose your first number zero to five\n",
      "Please choose your first number (zero to five):3\n",
      "Please choose your second number (zero to five):3\n",
      "What do you want to do?s\n",
      "the result is:6\n"
     ]
    }
   ],
   "source": [
    "print(\"Please choose your first number zero to five\")\n",
    "#num1 = str(input(\"Please choose your first number (zero to five):\"))\n",
    "#num2 = str(input(\"Please choose your second number (zero to five):\"))\n",
    "num1 = int(input(\"Please choose your first number (zero to five):\"))\n",
    "num2 = int(input(\"Please choose your second number (zero to five):\"))\n",
    "operation = input(\"What do you want to do?\").upper()\n",
    "#one = 1\n",
    "#two = 2\n",
    "#three = 3\n",
    "#four = 4\n",
    "#five = 5\n",
    "#hago la calculadora con números, no se como poner la equivalencia a cadenas\n",
    "if operation =='S':\n",
    "    suma = num1 + num2\n",
    "    print(f\"the result is:{suma}\")\n",
    "elif operation == 'R':\n",
    "    resta = num1 - num2\n",
    "    print(f\"the result is:{resta}\")\n",
    "else:\n",
    "    print(\"invalid option\")"
   ]
  },
  {
   "cell_type": "code",
   "execution_count": null,
   "id": "c6fa1de9",
   "metadata": {},
   "outputs": [],
   "source": []
  }
 ],
 "metadata": {
  "kernelspec": {
   "display_name": "Python [conda env:jp_env] *",
   "language": "python",
   "name": "conda-env-jp_env-py"
  },
  "language_info": {
   "codemirror_mode": {
    "name": "ipython",
    "version": 3
   },
   "file_extension": ".py",
   "mimetype": "text/x-python",
   "name": "python",
   "nbconvert_exporter": "python",
   "pygments_lexer": "ipython3",
   "version": "3.10.4"
  }
 },
 "nbformat": 4,
 "nbformat_minor": 5
}
