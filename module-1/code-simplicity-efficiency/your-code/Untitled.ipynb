{
 "cells": [
  {
   "cell_type": "code",
   "execution_count": null,
   "id": "9086ae9d",
   "metadata": {},
   "outputs": [],
   "source": [
    "print(Please choose your first number (zero to five):\n",
    "\n",
    "print(\"1.-Suma\")\n",
    "print(\"2.-Resta\")\n",
    "\n",
    "num1 = str(input(\"Ingrese un numero del 0 al 5\"))\n",
    "num2 = str(input(\"Ingrese un numero del 0 al 5\"))\n",
    "\n",
    "opc= int(input(\"Ingrese la opcion: \"))\n",
    "\n",
    "\n",
    "while(opc<1 or opc2>):\n",
    "    opc=int(input(\"Ingrese la opcion correcta\"))\n",
    "\n",
    "print(opc)\n",
    "\n",
    "\n",
    "if opc==1:\n",
    "    print(\"suma\")\n",
    "    suma=num1+num2\n",
    "    print(\"La suma es\", suma)\n",
    "elif:\n",
    "    opc==2:\n",
    "    print(\"restar\")\n",
    "    restar=num1-num2\n",
    "    print(\"La suma es\", suma)"
   ]
  },
  {
   "cell_type": "code",
   "execution_count": null,
   "id": "eb5da80f",
   "metadata": {},
   "outputs": [],
   "source": []
  },
  {
   "cell_type": "code",
   "execution_count": null,
   "id": "497e3254",
   "metadata": {},
   "outputs": [],
   "source": []
  },
  {
   "cell_type": "code",
   "execution_count": null,
   "id": "17152854",
   "metadata": {},
   "outputs": [],
   "source": []
  },
  {
   "cell_type": "code",
   "execution_count": null,
   "id": "49afaf2e",
   "metadata": {},
   "outputs": [],
   "source": []
  }
 ],
 "metadata": {
  "kernelspec": {
   "display_name": "Python [conda env:jp_env] *",
   "language": "python",
   "name": "conda-env-jp_env-py"
  },
  "language_info": {
   "codemirror_mode": {
    "name": "ipython",
    "version": 3
   },
   "file_extension": ".py",
   "mimetype": "text/x-python",
   "name": "python",
   "nbconvert_exporter": "python",
   "pygments_lexer": "ipython3",
   "version": "3.10.4"
  }
 },
 "nbformat": 4,
 "nbformat_minor": 5
}
