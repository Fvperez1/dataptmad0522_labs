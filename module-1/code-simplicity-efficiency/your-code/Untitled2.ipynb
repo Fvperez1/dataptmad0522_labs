{
 "cells": [
  {
   "cell_type": "code",
   "execution_count": 8,
   "id": "082f6b65",
   "metadata": {},
   "outputs": [
    {
     "name": "stdout",
     "output_type": "stream",
     "text": [
      "-----Menu de opciones----\n",
      "1.-suma\n",
      "2.-resta\n",
      "Ingrese un numero del 0 al 51\n",
      "Ingrese un numero del 0 al 51\n",
      "Ingrese la opcion: 1\n",
      "1\n",
      "suma\n",
      "La suma es 11\n"
     ]
    }
   ],
   "source": [
    "print(\"-----Menu de opciones----\")\n",
    "\n",
    "print(\"1.-suma\")\n",
    "print(\"2.-resta\")\n",
    "\n",
    "num1 = str(input(\"Ingrese un numero del 0 al 5\"))\n",
    "num2 = str(input(\"Ingrese un numero del 0 al 5\"))\n",
    "\n",
    "opc= int(input(\"Ingrese la opcion: \"))\n",
    "\n",
    "\n",
    "while(opc<1 or opc>2):\n",
    "    opc=int(input(\"Ingrese la opcion correcta\"))\n",
    "\n",
    "print(opc)\n",
    "\n",
    "\n",
    "if opc==1:\n",
    "    print(\"suma\")\n",
    "    suma=num1+num2\n",
    "    print(\"La suma es\", suma)\n",
    "else:\n",
    "    opc==2\n",
    "    print(\"restar\")\n",
    "    restar=num1-num2\n",
    "    print(\"La resta es\", restar)"
   ]
  },
  {
   "cell_type": "code",
   "execution_count": null,
   "id": "d986c5eb",
   "metadata": {},
   "outputs": [],
   "source": []
  },
  {
   "cell_type": "code",
   "execution_count": null,
   "id": "274806b1",
   "metadata": {},
   "outputs": [],
   "source": []
  }
 ],
 "metadata": {
  "kernelspec": {
   "display_name": "Python [conda env:jp_env] *",
   "language": "python",
   "name": "conda-env-jp_env-py"
  },
  "language_info": {
   "codemirror_mode": {
    "name": "ipython",
    "version": 3
   },
   "file_extension": ".py",
   "mimetype": "text/x-python",
   "name": "python",
   "nbconvert_exporter": "python",
   "pygments_lexer": "ipython3",
   "version": "3.10.4"
  }
 },
 "nbformat": 4,
 "nbformat_minor": 5
}
