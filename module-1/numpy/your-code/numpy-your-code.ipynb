{
 "cells": [
  {
   "cell_type": "markdown",
   "metadata": {},
   "source": [
    "# Introduction to NumPy\n",
    "\n",
    "\n",
    "#### 1. Import NumPy under the name np."
   ]
  },
  {
   "cell_type": "code",
   "execution_count": 68,
   "metadata": {},
   "outputs": [],
   "source": [
    "# your code here\n",
    "import numpy as np"
   ]
  },
  {
   "cell_type": "markdown",
   "metadata": {},
   "source": [
    "#### 2. Print your NumPy version."
   ]
  },
  {
   "cell_type": "code",
   "execution_count": 69,
   "metadata": {},
   "outputs": [
    {
     "name": "stdout",
     "output_type": "stream",
     "text": [
      "1.22.3\n"
     ]
    }
   ],
   "source": [
    "# your code here\n",
    "print(np.__version__)"
   ]
  },
  {
   "cell_type": "markdown",
   "metadata": {},
   "source": [
    "#### 3. Generate a 2x3x5 3-dimensional array with random values. Assign the array to variable *a*.\n",
    "**Challenge**: there are at least three easy ways that use numpy to generate random arrays. How many ways can you find?"
   ]
  },
  {
   "cell_type": "code",
   "execution_count": 70,
   "metadata": {},
   "outputs": [
    {
     "name": "stdout",
     "output_type": "stream",
     "text": [
      "[[[0.2724644  0.72402254 0.97737168 0.98002578 0.27115601]\n",
      "  [0.63195157 0.44733513 0.97094701 0.0157507  0.76740727]\n",
      "  [0.49773158 0.1908357  0.57764585 0.75440116 0.2685555 ]]\n",
      "\n",
      " [[0.11756498 0.29471762 0.88669245 0.1703867  0.19888085]\n",
      "  [0.88243377 0.30593955 0.35898387 0.12546019 0.27757538]\n",
      "  [0.17940743 0.32717881 0.12291612 0.06352393 0.77230648]]]\n"
     ]
    }
   ],
   "source": [
    "# Method 1\n",
    "a = np.random.random((2,3,5))\n",
    "print(a)\n"
   ]
  },
  {
   "cell_type": "code",
   "execution_count": 88,
   "metadata": {},
   "outputs": [
    {
     "data": {
      "text/plain": [
       "array([[[0.2724644 , 0.72402254, 0.97737168, 0.98002578, 0.27115601],\n",
       "        [0.63195157, 0.44733513, 0.97094701, 0.0157507 , 0.76740727],\n",
       "        [0.49773158, 0.1908357 , 0.57764585, 0.75440116, 0.2685555 ]],\n",
       "\n",
       "       [[0.11756498, 0.29471762, 0.88669245, 0.1703867 , 0.19888085],\n",
       "        [0.88243377, 0.30593955, 0.35898387, 0.12546019, 0.27757538],\n",
       "        [0.17940743, 0.32717881, 0.12291612, 0.06352393, 0.77230648]]])"
      ]
     },
     "execution_count": 88,
     "metadata": {},
     "output_type": "execute_result"
    }
   ],
   "source": [
    "# Method 2\n",
    "a1 = np.empty((2,3,5))\n",
    "a1"
   ]
  },
  {
   "cell_type": "code",
   "execution_count": 89,
   "metadata": {},
   "outputs": [
    {
     "name": "stdout",
     "output_type": "stream",
     "text": [
      "[[[0.2724644  0.72402254 0.97737168 0.98002578 0.27115601]\n",
      "  [0.63195157 0.44733513 0.97094701 0.0157507  0.76740727]\n",
      "  [0.49773158 0.1908357  0.57764585 0.75440116 0.2685555 ]]\n",
      "\n",
      " [[0.11756498 0.29471762 0.88669245 0.1703867  0.19888085]\n",
      "  [0.88243377 0.30593955 0.35898387 0.12546019 0.27757538]\n",
      "  [0.17940743 0.32717881 0.12291612 0.06352393 0.77230648]]]\n"
     ]
    }
   ],
   "source": [
    "# Method 3\n",
    "copy_a = a.copy()\n",
    "print(copy_a)"
   ]
  },
  {
   "cell_type": "markdown",
   "metadata": {},
   "source": [
    "#### 4. Print *a*.\n"
   ]
  },
  {
   "cell_type": "code",
   "execution_count": 90,
   "metadata": {},
   "outputs": [
    {
     "name": "stdout",
     "output_type": "stream",
     "text": [
      "[[[0.2724644  0.72402254 0.97737168 0.98002578 0.27115601]\n",
      "  [0.63195157 0.44733513 0.97094701 0.0157507  0.76740727]\n",
      "  [0.49773158 0.1908357  0.57764585 0.75440116 0.2685555 ]]\n",
      "\n",
      " [[0.11756498 0.29471762 0.88669245 0.1703867  0.19888085]\n",
      "  [0.88243377 0.30593955 0.35898387 0.12546019 0.27757538]\n",
      "  [0.17940743 0.32717881 0.12291612 0.06352393 0.77230648]]]\n"
     ]
    }
   ],
   "source": [
    "# your code here\n",
    "print(a)"
   ]
  },
  {
   "cell_type": "markdown",
   "metadata": {},
   "source": [
    "#### 5. Create a 5x2x3 3-dimensional array with all values equaling 1. Assign the array to variable *b*."
   ]
  },
  {
   "cell_type": "code",
   "execution_count": 91,
   "metadata": {},
   "outputs": [
    {
     "data": {
      "text/plain": [
       "array([[[1., 1., 1.],\n",
       "        [1., 1., 1.]],\n",
       "\n",
       "       [[1., 1., 1.],\n",
       "        [1., 1., 1.]],\n",
       "\n",
       "       [[1., 1., 1.],\n",
       "        [1., 1., 1.]],\n",
       "\n",
       "       [[1., 1., 1.],\n",
       "        [1., 1., 1.]],\n",
       "\n",
       "       [[1., 1., 1.],\n",
       "        [1., 1., 1.]]])"
      ]
     },
     "execution_count": 91,
     "metadata": {},
     "output_type": "execute_result"
    }
   ],
   "source": [
    "# your code here\n",
    "b = np.ones((5,2,3))\n",
    "b"
   ]
  },
  {
   "cell_type": "markdown",
   "metadata": {},
   "source": [
    "#### 6. Print *b*.\n"
   ]
  },
  {
   "cell_type": "code",
   "execution_count": 92,
   "metadata": {},
   "outputs": [
    {
     "name": "stdout",
     "output_type": "stream",
     "text": [
      "[[[1. 1. 1.]\n",
      "  [1. 1. 1.]]\n",
      "\n",
      " [[1. 1. 1.]\n",
      "  [1. 1. 1.]]\n",
      "\n",
      " [[1. 1. 1.]\n",
      "  [1. 1. 1.]]\n",
      "\n",
      " [[1. 1. 1.]\n",
      "  [1. 1. 1.]]\n",
      "\n",
      " [[1. 1. 1.]\n",
      "  [1. 1. 1.]]]\n"
     ]
    }
   ],
   "source": [
    "# your code here\n",
    "print(b_ones_array)"
   ]
  },
  {
   "cell_type": "markdown",
   "metadata": {},
   "source": [
    "#### 7. Do *a* and *b* have the same size? How do you prove that in Python code?"
   ]
  },
  {
   "cell_type": "code",
   "execution_count": 93,
   "metadata": {},
   "outputs": [
    {
     "name": "stdout",
     "output_type": "stream",
     "text": [
      "30\n",
      "30\n"
     ]
    }
   ],
   "source": [
    "print(b.size)\n",
    "print(a.size)"
   ]
  },
  {
   "cell_type": "code",
   "execution_count": 94,
   "metadata": {},
   "outputs": [
    {
     "name": "stdout",
     "output_type": "stream",
     "text": [
      "False\n"
     ]
    }
   ],
   "source": [
    "print(np.array_equal(a,b))"
   ]
  },
  {
   "cell_type": "markdown",
   "metadata": {},
   "source": [
    "#### 8. Are you able to add *a* and *b*? Why or why not?\n"
   ]
  },
  {
   "cell_type": "code",
   "execution_count": 95,
   "metadata": {},
   "outputs": [
    {
     "ename": "ValueError",
     "evalue": "operands could not be broadcast together with shapes (2,3,5) (5,2,3) ",
     "output_type": "error",
     "traceback": [
      "\u001b[1;31m---------------------------------------------------------------------------\u001b[0m",
      "\u001b[1;31mValueError\u001b[0m                                Traceback (most recent call last)",
      "Input \u001b[1;32mIn [95]\u001b[0m, in \u001b[0;36m<cell line: 2>\u001b[1;34m()\u001b[0m\n\u001b[0;32m      1\u001b[0m \u001b[38;5;66;03m# your answer here\u001b[39;00m\n\u001b[1;32m----> 2\u001b[0m \u001b[38;5;28mprint\u001b[39m(\u001b[43mnp\u001b[49m\u001b[38;5;241;43m.\u001b[39;49m\u001b[43madd\u001b[49m\u001b[43m(\u001b[49m\u001b[43ma\u001b[49m\u001b[43m,\u001b[49m\u001b[43mb\u001b[49m\u001b[43m)\u001b[49m)\n",
      "\u001b[1;31mValueError\u001b[0m: operands could not be broadcast together with shapes (2,3,5) (5,2,3) "
     ]
    }
   ],
   "source": [
    "# your answer here\n",
    "print(np.add(a,b))\n",
    "#Se pueden sumar, siempre que las matrices tengan la misma estructura"
   ]
  },
  {
   "cell_type": "markdown",
   "metadata": {},
   "source": [
    "#### 9. Transpose *b* so that it has the same structure of *a* (i.e. become a 2x3x5 array). Assign the transposed array to variable *c*."
   ]
  },
  {
   "cell_type": "code",
   "execution_count": 96,
   "metadata": {},
   "outputs": [
    {
     "data": {
      "text/plain": [
       "array([[[1., 1., 1., 1., 1.],\n",
       "        [1., 1., 1., 1., 1.]],\n",
       "\n",
       "       [[1., 1., 1., 1., 1.],\n",
       "        [1., 1., 1., 1., 1.]],\n",
       "\n",
       "       [[1., 1., 1., 1., 1.],\n",
       "        [1., 1., 1., 1., 1.]]])"
      ]
     },
     "execution_count": 96,
     "metadata": {},
     "output_type": "execute_result"
    }
   ],
   "source": [
    "# your code here\n",
    "c = b.transpose()\n",
    "c"
   ]
  },
  {
   "cell_type": "markdown",
   "metadata": {},
   "source": [
    "#### 10. Try to add *a* and *c*. Now it should work. Assign the sum to variable *d*. But why does it work now?"
   ]
  },
  {
   "cell_type": "code",
   "execution_count": 100,
   "metadata": {},
   "outputs": [
    {
     "data": {
      "text/plain": [
       "array([[[1., 1., 1., 1., 1.],\n",
       "        [1., 1., 1., 1., 1.],\n",
       "        [1., 1., 1., 1., 1.]],\n",
       "\n",
       "       [[1., 1., 1., 1., 1.],\n",
       "        [1., 1., 1., 1., 1.],\n",
       "        [1., 1., 1., 1., 1.]]])"
      ]
     },
     "execution_count": 100,
     "metadata": {},
     "output_type": "execute_result"
    }
   ],
   "source": [
    "# your code/answer here\n",
    "c = b.reshape(2,3,5)\n",
    "c"
   ]
  },
  {
   "cell_type": "code",
   "execution_count": 101,
   "metadata": {},
   "outputs": [
    {
     "name": "stdout",
     "output_type": "stream",
     "text": [
      "(2, 3, 5)\n",
      "[[[1.2724644  1.72402254 1.97737168 1.98002578 1.27115601]\n",
      "  [1.63195157 1.44733513 1.97094701 1.0157507  1.76740727]\n",
      "  [1.49773158 1.1908357  1.57764585 1.75440116 1.2685555 ]]\n",
      "\n",
      " [[1.11756498 1.29471762 1.88669245 1.1703867  1.19888085]\n",
      "  [1.88243377 1.30593955 1.35898387 1.12546019 1.27757538]\n",
      "  [1.17940743 1.32717881 1.12291612 1.06352393 1.77230648]]]\n"
     ]
    }
   ],
   "source": [
    "d = np.add(a, c)\n",
    "print(d.shape)\n",
    "print(d)"
   ]
  },
  {
   "cell_type": "markdown",
   "metadata": {},
   "source": [
    "#### 11. Print *a* and *d*. Notice the difference and relation of the two array in terms of the values? Explain."
   ]
  },
  {
   "cell_type": "code",
   "execution_count": 107,
   "metadata": {},
   "outputs": [
    {
     "name": "stdout",
     "output_type": "stream",
     "text": [
      "[[[0.2724644  0.72402254 0.97737168 0.98002578 0.27115601]\n",
      "  [0.63195157 0.44733513 0.97094701 0.0157507  0.76740727]\n",
      "  [0.49773158 0.1908357  0.57764585 0.75440116 0.2685555 ]]\n",
      "\n",
      " [[0.11756498 0.29471762 0.88669245 0.1703867  0.19888085]\n",
      "  [0.88243377 0.30593955 0.35898387 0.12546019 0.27757538]\n",
      "  [0.17940743 0.32717881 0.12291612 0.06352393 0.77230648]]]\n",
      "[[[1.2724644  1.72402254 1.97737168 1.98002578 1.27115601]\n",
      "  [1.63195157 1.44733513 1.97094701 1.0157507  1.76740727]\n",
      "  [1.49773158 1.1908357  1.57764585 1.75440116 1.2685555 ]]\n",
      "\n",
      " [[1.11756498 1.29471762 1.88669245 1.1703867  1.19888085]\n",
      "  [1.88243377 1.30593955 1.35898387 1.12546019 1.27757538]\n",
      "  [1.17940743 1.32717881 1.12291612 1.06352393 1.77230648]]]\n"
     ]
    }
   ],
   "source": [
    "# your code/answer here\n",
    "print(a)\n",
    "\n",
    "print(d)"
   ]
  },
  {
   "cell_type": "markdown",
   "metadata": {},
   "source": [
    "#### 12. Multiply *a* and *c*. Assign the result to *e*."
   ]
  },
  {
   "cell_type": "code",
   "execution_count": 108,
   "metadata": {},
   "outputs": [
    {
     "data": {
      "text/plain": [
       "array([[[0.2724644 , 0.72402254, 0.97737168, 0.98002578, 0.27115601],\n",
       "        [0.63195157, 0.44733513, 0.97094701, 0.0157507 , 0.76740727],\n",
       "        [0.49773158, 0.1908357 , 0.57764585, 0.75440116, 0.2685555 ]],\n",
       "\n",
       "       [[0.11756498, 0.29471762, 0.88669245, 0.1703867 , 0.19888085],\n",
       "        [0.88243377, 0.30593955, 0.35898387, 0.12546019, 0.27757538],\n",
       "        [0.17940743, 0.32717881, 0.12291612, 0.06352393, 0.77230648]]])"
      ]
     },
     "execution_count": 108,
     "metadata": {},
     "output_type": "execute_result"
    }
   ],
   "source": [
    "# your code here\n",
    "e = np.multiply(a, c)\n",
    "e"
   ]
  },
  {
   "cell_type": "markdown",
   "metadata": {},
   "source": [
    "#### 13. Does *e* equal to *a*? Why or why not?\n"
   ]
  },
  {
   "cell_type": "code",
   "execution_count": 109,
   "metadata": {},
   "outputs": [],
   "source": [
    "# your code/answer here\n",
    "#Deberia de ser igual, ya que se ha multiplicado por uno(1)"
   ]
  },
  {
   "cell_type": "markdown",
   "metadata": {},
   "source": [
    "#### 14. Identify the max, min, and mean values in *d*. Assign those values to variables *d_max*, *d_min* and *d_mean*."
   ]
  },
  {
   "cell_type": "code",
   "execution_count": 110,
   "metadata": {},
   "outputs": [
    {
     "name": "stdout",
     "output_type": "stream",
     "text": [
      "d_max is 1.9800257830037964\n",
      "d_min is 1.0157506988289786\n",
      "d_mean is 1.4477190007031249\n"
     ]
    }
   ],
   "source": [
    "# your code here\n",
    "d_min = d.min()\n",
    "d_max = d.max()\n",
    "d_mean = np.mean(d)\n",
    "print(f'd_max is {d_max}')\n",
    "print(f'd_min is {d_min}')\n",
    "print(f'd_mean is {d_mean}')"
   ]
  },
  {
   "cell_type": "markdown",
   "metadata": {},
   "source": [
    "#### 15. Now we want to label the values in *d*. First create an empty array *f* with the same shape (i.e. 2x3x5) as *d* using `np.empty`.\n"
   ]
  },
  {
   "cell_type": "code",
   "execution_count": 116,
   "metadata": {},
   "outputs": [
    {
     "name": "stdout",
     "output_type": "stream",
     "text": [
      "[[[0.2724644  0.72402254 0.97737168 0.98002578 0.27115601]\n",
      "  [0.63195157 0.44733513 0.97094701 0.0157507  0.76740727]\n",
      "  [0.49773158 0.1908357  0.57764585 0.75440116 0.2685555 ]]\n",
      "\n",
      " [[0.11756498 0.29471762 0.88669245 0.1703867  0.19888085]\n",
      "  [0.88243377 0.30593955 0.35898387 0.12546019 0.27757538]\n",
      "  [0.17940743 0.32717881 0.12291612 0.06352393 0.77230648]]]\n"
     ]
    }
   ],
   "source": [
    "# your code here\n",
    "f = np.empty((2, 3, 5))\n",
    "print(f)"
   ]
  },
  {
   "cell_type": "markdown",
   "metadata": {},
   "source": [
    "#### 16. Populate the values in *f*. \n",
    "\n",
    "For each value in *d*, if it's larger than *d_min* but smaller than *d_mean*, assign 25 to the corresponding value in *f*. If a value in *d* is larger than *d_mean* but smaller than *d_max*, assign 75 to the corresponding value in *f*. If a value equals to *d_mean*, assign 50 to the corresponding value in *f*. Assign 0 to the corresponding value(s) in *f* for *d_min* in *d*. Assign 100 to the corresponding value(s) in *f* for *d_max* in *d*. In the end, f should have only the following values: 0, 25, 50, 75, and 100.\n",
    "\n",
    "**Note**: you don't have to use Numpy in this question."
   ]
  },
  {
   "cell_type": "code",
   "execution_count": 117,
   "metadata": {},
   "outputs": [],
   "source": [
    "# your code here\n",
    "for value in d:\n",
    "    if value.any() > d_min and value.any() < d_mean:\n",
    "        value = 25\n",
    "        value.append(f)\n",
    "\n",
    "    if value.any() > d_mean and value.any() < d_max:\n",
    "        value = 75\n",
    "        value.append(f)\n",
    "\n",
    "    if value.any() == d_mean:\n",
    "        value = 50\n",
    "        value.append(f)\n",
    "\n",
    "    if value.any() == d_min:\n",
    "        value = 0\n",
    "        value.append(f)\n",
    "\n",
    "    if value.any() == d_max:\n",
    "        value = 100\n",
    "        value.append(f)"
   ]
  },
  {
   "cell_type": "markdown",
   "metadata": {},
   "source": [
    "#### 17. Print *d* and *f*. Do you have your expected *f*?\n",
    "For instance, if your *d* is:\n",
    "```python\n",
    "[[[1.85836099, 1.67064465, 1.62576044, 1.40243961, 1.88454931],\n",
    "[1.75354326, 1.69403643, 1.36729252, 1.61415071, 1.12104981],\n",
    "[1.72201435, 1.1862918 , 1.87078449, 1.7726778 , 1.88180042]],\n",
    "[[1.44747908, 1.31673383, 1.02000951, 1.52218947, 1.97066381],\n",
    "[1.79129243, 1.74983003, 1.96028037, 1.85166831, 1.65450881],\n",
    "[1.18068344, 1.9587381 , 1.00656599, 1.93402165, 1.73514584]]]\n",
    "```\n",
    "Your *f* should be:\n",
    "```python\n",
    "[[[ 75.,  75.,  75.,  25.,  75.],\n",
    "[ 75.,  75.,  25.,  25.,  25.],\n",
    "[ 75.,  25.,  75.,  75.,  75.]],\n",
    "[[ 25.,  25.,  25.,  25., 100.],\n",
    "[ 75.,  75.,  75.,  75.,  75.],\n",
    "[ 25.,  75.,   0.,  75.,  75.]]]\n",
    "```"
   ]
  },
  {
   "cell_type": "code",
   "execution_count": 120,
   "metadata": {},
   "outputs": [
    {
     "name": "stdout",
     "output_type": "stream",
     "text": [
      "[[[0.2724644  0.72402254 0.97737168 0.98002578 0.27115601]\n",
      "  [0.63195157 0.44733513 0.97094701 0.0157507  0.76740727]\n",
      "  [0.49773158 0.1908357  0.57764585 0.75440116 0.2685555 ]]\n",
      "\n",
      " [[0.11756498 0.29471762 0.88669245 0.1703867  0.19888085]\n",
      "  [0.88243377 0.30593955 0.35898387 0.12546019 0.27757538]\n",
      "  [0.17940743 0.32717881 0.12291612 0.06352393 0.77230648]]]\n",
      "[[[1.2724644  1.72402254 1.97737168 1.98002578 1.27115601]\n",
      "  [1.63195157 1.44733513 1.97094701 1.0157507  1.76740727]\n",
      "  [1.49773158 1.1908357  1.57764585 1.75440116 1.2685555 ]]\n",
      "\n",
      " [[1.11756498 1.29471762 1.88669245 1.1703867  1.19888085]\n",
      "  [1.88243377 1.30593955 1.35898387 1.12546019 1.27757538]\n",
      "  [1.17940743 1.32717881 1.12291612 1.06352393 1.77230648]]]\n"
     ]
    }
   ],
   "source": [
    "# your code here\n",
    "print(f)\n",
    "print(d)"
   ]
  },
  {
   "cell_type": "markdown",
   "metadata": {},
   "source": [
    "#### 18. Bonus question: instead of using numbers (i.e. 0, 25, 50, 75, and 100), use string values  (\"A\", \"B\", \"C\", \"D\", and \"E\") to label the array elements. For the example above, the expected result is:\n",
    "\n",
    "```python\n",
    "[[[ 'D',  'D',  'D',  'B',  'D'],\n",
    "[ 'D',  'D',  'B',  'B',  'B'],\n",
    "[ 'D',  'B',  'D',  'D',  'D']],\n",
    "[[ 'B',  'B',  'B',  'B',  'E'],\n",
    "[ 'D',  'D',  'D',  'D',  'D'],\n",
    "[ 'B',  'D',   'A',  'D', 'D']]]\n",
    "```\n",
    "**Note**: you don't have to use Numpy in this question."
   ]
  },
  {
   "cell_type": "code",
   "execution_count": null,
   "metadata": {},
   "outputs": [],
   "source": [
    "# your code here"
   ]
  }
 ],
 "metadata": {
  "kernelspec": {
   "display_name": "Python 3 (ipykernel)",
   "language": "python",
   "name": "python3"
  },
  "language_info": {
   "codemirror_mode": {
    "name": "ipython",
    "version": 3
   },
   "file_extension": ".py",
   "mimetype": "text/x-python",
   "name": "python",
   "nbconvert_exporter": "python",
   "pygments_lexer": "ipython3",
   "version": "3.10.4"
  }
 },
 "nbformat": 4,
 "nbformat_minor": 2
}
