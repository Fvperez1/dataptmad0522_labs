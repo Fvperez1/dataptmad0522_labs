{
 "cells": [
  {
   "cell_type": "code",
   "execution_count": null,
   "id": "b892b276",
   "metadata": {},
   "outputs": [],
   "source": [
    "#Vamos a por mi primer codigo de SQL"
   ]
  }
 ],
 "metadata": {
  "kernelspec": {
   "display_name": "Python [conda env:jp_env] *",
   "language": "python",
   "name": "conda-env-jp_env-py"
  },
  "language_info": {
   "codemirror_mode": {
    "name": "ipython",
    "version": 3
   },
   "file_extension": ".py",
   "mimetype": "text/x-python",
   "name": "python",
   "nbconvert_exporter": "python",
   "pygments_lexer": "ipython3",
   "version": "3.10.4"
  }
 },
 "nbformat": 4,
 "nbformat_minor": 5
}
